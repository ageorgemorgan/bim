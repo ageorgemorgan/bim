{
 "cells": [
  {
   "cell_type": "code",
   "execution_count": 1,
   "metadata": {},
   "outputs": [],
   "source": [
    "import numpy as np\n",
    "import matplotlib.pyplot as plt\n",
    "import networkx as nx\n",
    "import time\n",
    "import sys"
   ]
  },
  {
   "cell_type": "code",
   "execution_count": 2,
   "metadata": {},
   "outputs": [],
   "source": [
    "# Now we get to market simulation \n",
    "\n",
    "# choose your number of periods\n",
    "T = 1\n",
    "\n",
    "# Initial stock price\n",
    "s0 = 4\n",
    "\n",
    "# fix the parameters in the fixed-interest rate, fixed-volatility setting\n",
    "r = 0.25 # interest rate\n",
    "u = 2. # up jump\n",
    "d = 0.5 # down jump\n",
    "\n",
    "# TODO: automatic check for arbitrage\n",
    "if d >= 1+r or u <= 1+r:\n",
    "    print('Arbitrage detected in the market! Derivative pricing models invalid.')\n",
    "\n",
    "# Use this data to define the risk-neutral probabilities\n",
    "p_rn = (1.+r-d)/(u-d)\n",
    "q_rn = (u-1.-r)/(u-d)"
   ]
  },
  {
   "cell_type": "markdown",
   "metadata": {},
   "source": [
    "We define the graph that organizes our thought process using the NetworkX package. "
   ]
  },
  {
   "cell_type": "code",
   "execution_count": 3,
   "metadata": {},
   "outputs": [],
   "source": [
    "# define the t^th triangular number... tri(0)=0, tri(1)=1, tri(2)=3,...\n",
    "# note: this only works for SCALAR argument bcz of the way python's \"int\" fnc works...\n",
    "def tri(t):\n",
    "    return  int(0.5*t*(t+1))"
   ]
  },
  {
   "cell_type": "code",
   "execution_count": 4,
   "metadata": {},
   "outputs": [],
   "source": [
    "# initialize the graph as \"empty\" (vertices only) with the right num of vertices\n",
    "nverts = tri(T+1)\n",
    "G = nx.empty_graph(nverts) \n",
    "\n",
    "# set the period attribute of the root node \n",
    "nx.set_node_attributes(G, {0:{'period':0}})\n",
    "\n",
    "# set price attribute of the root node\n",
    "nx.set_node_attributes(G, {0:{'s':s0}})\n",
    "\n",
    "for t in range(0,T): \n",
    "    \n",
    "    # triangular numbers can be used for indexing help\n",
    "    numt = tri(t)\n",
    "    \n",
    "    for n in range(numt, numt+t+1):\n",
    "                \n",
    "        # set period attribute for next period\n",
    "        nx.set_node_attributes(G, {n+t+1:{'period':t+1}})\n",
    "        nx.set_node_attributes(G, {n+t+2:{'period':t+1}})\n",
    "        \n",
    "        # set underlying price, s, attribute for next period\n",
    "        s = G.nodes[n]['s']\n",
    "        \n",
    "        s_u = u*s\n",
    "        s_d = d*s\n",
    "        nx.set_node_attributes(G, {n+t+1:{'s':s_u}})\n",
    "        nx.set_node_attributes(G, {n+t+2:{'s':s_d}})\n",
    "        \n",
    "        # TODO: currently there is some redundancy with populating s! Fix this. \n",
    "        \n",
    "        # draw new edges (since we only draw edges, no worries about double-counting\n",
    "        # which would happen if we drew nodes instead)\n",
    "        G.add_edge(n, n+t+1)\n",
    "        G.add_edge(n, n+t+2)"
   ]
  },
  {
   "cell_type": "code",
   "execution_count": 5,
   "metadata": {},
   "outputs": [],
   "source": [
    "# draw the graph if you want, but right now the visual presentation isn't optimized\n",
    "#nx.draw_networkx(G)\n",
    "#G.nodes(data=True)\n",
    "#G.nodes[1]['s']"
   ]
  },
  {
   "cell_type": "code",
   "execution_count": 6,
   "metadata": {},
   "outputs": [],
   "source": [
    "# risk-neutral derivative pricing formula if underlying price is s and upward \n",
    "# forward derivative price is v_u, downward forward price is v_d.\n",
    "def rn_pricing_formula(v_u, v_d):\n",
    "    \n",
    "    return (1./(1.+r))*(p_rn*v_u + q_rn*v_d) # compute discounted expectation in the RN measure"
   ]
  },
  {
   "cell_type": "code",
   "execution_count": 7,
   "metadata": {},
   "outputs": [],
   "source": [
    "# delta-hedging formula\n",
    "def delta_hedging(s, v_u, v_d):\n",
    "\n",
    "    return (v_u - v_d)/((u-d)*s)"
   ]
  },
  {
   "cell_type": "code",
   "execution_count": 8,
   "metadata": {},
   "outputs": [],
   "source": [
    "# price a derivative security for sale at time t0, given only the derivative's payoff at time T\n",
    "# as a function of underlying price s(T). Also populate replicating portfolio deltas and\n",
    "# bond balances\n",
    "def price_derivative(t0, payoff): \n",
    "    \n",
    "    # TODO: print error message if sale time t0 is execution time T\n",
    "    \n",
    "    for t in range(T, -1, -1):\n",
    "        \n",
    "        numt = tri(t)\n",
    "        \n",
    "        for n in range(numt, numt+t+1):\n",
    "        \n",
    "            node = G.nodes[n]\n",
    "            \n",
    "            s = node['s']\n",
    "                \n",
    "            # first compute the payoff on the final period, and populate vertex attributes with the results\n",
    "        \n",
    "            if t == T:\n",
    "                                        \n",
    "                v = payoff(s)\n",
    "                \n",
    "                delta = 0. # have no info on delta at the terminal time! \n",
    "                \n",
    "                M = 0. # likewise have no info on ideal money market balance at terminal time!\n",
    "            \n",
    "            # now do recursion down the graph\n",
    "        \n",
    "            else: \n",
    "            \n",
    "                v_u = G.nodes[n+t+1]['v']\n",
    "        \n",
    "                v_d = G.nodes[n+t+2]['v']\n",
    "            \n",
    "                v = rn_pricing_formula(v_u, v_d)\n",
    "                \n",
    "                delta = delta_hedging(s, v_u, v_d)\n",
    "                \n",
    "                M = v - delta*s\n",
    "            \n",
    "            nx.set_node_attributes(G, {n:{'v':v}})\n",
    "            nx.set_node_attributes(G, {n:{'delta':delta}})\n",
    "            nx.set_node_attributes(G, {n:{'M':M}})\n",
    "        \n",
    "    # extract the derivative price at whatever chosen time\n",
    "    v0 = G.nodes[t0]['v']\n",
    "    delta0 = G.nodes[t0]['delta']\n",
    "    M0 = G.nodes[t0]['M']\n",
    "\n",
    "    return v0, delta0, M "
   ]
  },
  {
   "cell_type": "code",
   "execution_count": 9,
   "metadata": {},
   "outputs": [],
   "source": [
    "# TODO: perhaps the above should be split into a family of functions. Maybe a market object G \n",
    "# can have a callable ie. G.populate(payoff) that executes population of all node attributes but\n",
    "# does not actually print the prices. Price printing can be done after population via\n",
    "# separate functions. Perhaps when we do this we may want to make sure each possible payoff has a\n",
    "# different name in case we want to have a portfolio that includes a variety of derivatives? "
   ]
  },
  {
   "cell_type": "code",
   "execution_count": 10,
   "metadata": {},
   "outputs": [],
   "source": [
    "K = 5. \n",
    "\n",
    "# European call with strike price K and underlying price s\n",
    "def euro_call_payoff(s, K = K): \n",
    "    return max(0,s-K)\n",
    "\n",
    "# European put with strike price K and underlying price s\n",
    "def euro_put_payoff(s, K = K): \n",
    "    return max(0,K-s)\n",
    "\n",
    "# payoff from being long in a futures contract\n",
    "def futures_long_payoff(s, K = K):\n",
    "    return s-K\n",
    "\n",
    "# payoff from being short in a futures contract\n",
    "def futures_short_payoff(s, K = K):\n",
    "    return K-s"
   ]
  },
  {
   "cell_type": "code",
   "execution_count": 11,
   "metadata": {},
   "outputs": [
    {
     "name": "stdout",
     "output_type": "stream",
     "text": [
      "Runtime =  0.00012087821960449219 s\n",
      "Euro put price at time 0 =   1.20 \n",
      "Number of shares in replicating portfolio at time 0 =  0.50 \n",
      "Total bond investment in replicating portfolio at time 0 = -0.80\n"
     ]
    }
   ],
   "source": [
    "start=time.time()\n",
    "\n",
    "euro_price, euro_delta, M = price_derivative(0, euro_call_payoff)\n",
    "\n",
    "end=time.time()\n",
    "runtime=end-start\n",
    "\n",
    "print('Runtime = ', runtime, 's')\n",
    "\n",
    "print('Euro put price at time 0 =  % .2f '% euro_price)\n",
    "print('Number of shares in replicating portfolio at time 0 = % .2f ' % euro_delta)\n",
    "print('Total bond investment in replicating portfolio at time 0 = % .2f' % M)"
   ]
  },
  {
   "cell_type": "code",
   "execution_count": 12,
   "metadata": {},
   "outputs": [],
   "source": [
    "# TODO: \n",
    "# - inspection of the implementation's performance for large number of periods? Numerical\n",
    "# stability? \n",
    "# - effective visualization of results? \n",
    "# - Writing a baby package (PyCharm project?) that gives a user-friendly way to define markets\n",
    "# and get quick answers for derivative pricing, hedging, etc without having to do anything yucky\n",
    "# ie. without knowing numpy or networkx"
   ]
  }
 ],
 "metadata": {
  "kernelspec": {
   "display_name": "Python 3",
   "language": "python",
   "name": "python3"
  },
  "language_info": {
   "codemirror_mode": {
    "name": "ipython",
    "version": 3
   },
   "file_extension": ".py",
   "mimetype": "text/x-python",
   "name": "python",
   "nbconvert_exporter": "python",
   "pygments_lexer": "ipython3",
   "version": "3.7.6"
  }
 },
 "nbformat": 4,
 "nbformat_minor": 4
}
